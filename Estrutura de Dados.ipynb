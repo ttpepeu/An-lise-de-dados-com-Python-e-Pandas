{
 "cells": [
  {
   "cell_type": "markdown",
   "id": "2dd01e92",
   "metadata": {},
   "source": [
    "# Estrutura de Dados"
   ]
  },
  {
   "cell_type": "markdown",
   "id": "a1dd3c49",
   "metadata": {},
   "source": [
    "### Listas"
   ]
  },
  {
   "cell_type": "code",
   "execution_count": 1,
   "id": "5b963df2",
   "metadata": {},
   "outputs": [
    {
     "name": "stdout",
     "output_type": "stream",
     "text": [
      "[1, 2, 3]\n"
     ]
    }
   ],
   "source": [
    "# Criando uma lista chamada animais.\n",
    "animais = [1,2,3]\n",
    "print(animais)"
   ]
  },
  {
   "cell_type": "code",
   "execution_count": 2,
   "id": "a1189ffb",
   "metadata": {},
   "outputs": [
    {
     "name": "stdout",
     "output_type": "stream",
     "text": [
      "['cachorro', 'gato', 1, 28, 3.564]\n"
     ]
    }
   ],
   "source": [
    "animais = ['cachorro', 'gato',1, 28, 3.564]\n",
    "print(animais)"
   ]
  },
  {
   "cell_type": "code",
   "execution_count": 3,
   "id": "e976913b",
   "metadata": {},
   "outputs": [
    {
     "name": "stdout",
     "output_type": "stream",
     "text": [
      "cachorro\n"
     ]
    }
   ],
   "source": [
    "# Imprimindo o primeiro valor da lista.\n",
    "print(animais[0])"
   ]
  },
  {
   "cell_type": "code",
   "execution_count": 4,
   "id": "fc75a711",
   "metadata": {},
   "outputs": [
    {
     "name": "stdout",
     "output_type": "stream",
     "text": [
      "28\n"
     ]
    }
   ],
   "source": [
    "# Imprimindo o quarto valor da lista.\n",
    "print(animais[3])"
   ]
  },
  {
   "cell_type": "code",
   "execution_count": 5,
   "id": "34119507",
   "metadata": {},
   "outputs": [
    {
     "name": "stdout",
     "output_type": "stream",
     "text": [
      "Leão\n"
     ]
    }
   ],
   "source": [
    "# Substituindo o quarto valor da lista.\n",
    "animais[3] = 'Leão'\n",
    "print(animais[3])"
   ]
  },
  {
   "cell_type": "code",
   "execution_count": 6,
   "id": "eec05ce5",
   "metadata": {},
   "outputs": [],
   "source": [
    "# Removendo o gato da lista.\n",
    "animais.remove('gato')"
   ]
  },
  {
   "cell_type": "code",
   "execution_count": 7,
   "id": "55494abb",
   "metadata": {},
   "outputs": [
    {
     "data": {
      "text/plain": [
       "4"
      ]
     },
     "execution_count": 7,
     "metadata": {},
     "output_type": "execute_result"
    }
   ],
   "source": [
    "len(animais) # A função LEN retorna o tamanho da lista."
   ]
  },
  {
   "cell_type": "code",
   "execution_count": 8,
   "id": "1eec38d3",
   "metadata": {},
   "outputs": [
    {
     "data": {
      "text/plain": [
       "False"
      ]
     },
     "execution_count": 8,
     "metadata": {},
     "output_type": "execute_result"
    }
   ],
   "source": [
    "'gato' in animais # Com IN podemos verificar se há o elemento gato na Lista."
   ]
  },
  {
   "cell_type": "code",
   "execution_count": 9,
   "id": "fb3bd4e2",
   "metadata": {},
   "outputs": [],
   "source": [
    "lista = [5554,15452,54515,8985]"
   ]
  },
  {
   "cell_type": "code",
   "execution_count": 10,
   "id": "4ce11147",
   "metadata": {},
   "outputs": [
    {
     "data": {
      "text/plain": [
       "54515"
      ]
     },
     "execution_count": 10,
     "metadata": {},
     "output_type": "execute_result"
    }
   ],
   "source": [
    "max(lista) # A função MAX retorna o maior valor."
   ]
  },
  {
   "cell_type": "code",
   "execution_count": 11,
   "id": "5dbef360",
   "metadata": {},
   "outputs": [
    {
     "data": {
      "text/plain": [
       "5554"
      ]
     },
     "execution_count": 11,
     "metadata": {},
     "output_type": "execute_result"
    }
   ],
   "source": [
    "min(lista) # A função MIN retona o menor valor."
   ]
  },
  {
   "cell_type": "code",
   "execution_count": 12,
   "id": "720292b4",
   "metadata": {},
   "outputs": [
    {
     "name": "stdout",
     "output_type": "stream",
     "text": [
      "['cachorro', 1, 'Leão', 3.564, 'macaco']\n"
     ]
    }
   ],
   "source": [
    "animais.append('macaco') # A função APPEND adiciona apenas uma elemento na lista.\n",
    "print(animais)"
   ]
  },
  {
   "cell_type": "code",
   "execution_count": 13,
   "id": "fd4f2bb3",
   "metadata": {},
   "outputs": [
    {
     "name": "stdout",
     "output_type": "stream",
     "text": [
      "['cachorro', 1, 'Leão', 3.564, 'macaco', 'cobra', 4]\n"
     ]
    }
   ],
   "source": [
    "animais.extend(['cobra',4]) # A função EXTEND adiciona permite adicionar varios elementos na lista.\n",
    "print(animais)"
   ]
  },
  {
   "cell_type": "code",
   "execution_count": 14,
   "id": "a37fb081",
   "metadata": {},
   "outputs": [
    {
     "name": "stdout",
     "output_type": "stream",
     "text": [
      "[1, 2, 3, 4, 5, 6, 7, 8, 9]\n"
     ]
    }
   ],
   "source": [
    "lista = [5,8,6,1,4,3,9,2,7]\n",
    "lista.sort() # A função SORT organiza a lista em ordem crescente.\n",
    "print(lista)"
   ]
  },
  {
   "cell_type": "code",
   "execution_count": 15,
   "id": "f6937aad",
   "metadata": {},
   "outputs": [
    {
     "name": "stdout",
     "output_type": "stream",
     "text": [
      "[9, 8, 7, 6, 5, 4, 3, 2, 1]\n"
     ]
    }
   ],
   "source": [
    "lista.reverse() # A função REVERSE inverte a lista.\n",
    "print(lista)"
   ]
  },
  {
   "cell_type": "markdown",
   "id": "cccfd995",
   "metadata": {},
   "source": [
    "### Tuplas\n",
    "  Tuplas são lista que contém valores imutáveis."
   ]
  },
  {
   "cell_type": "code",
   "execution_count": 16,
   "id": "d7d7c5e9",
   "metadata": {},
   "outputs": [
    {
     "name": "stdout",
     "output_type": "stream",
     "text": [
      "Morango\n"
     ]
    }
   ],
   "source": [
    "tuplas = ('Maçã', 'Morango', 1)\n",
    "print(tuplas[1])"
   ]
  },
  {
   "cell_type": "markdown",
   "id": "d77b801f",
   "metadata": {},
   "source": [
    "### Dicionarios"
   ]
  },
  {
   "cell_type": "code",
   "execution_count": 17,
   "id": "99929fad",
   "metadata": {},
   "outputs": [
    {
     "name": "stdout",
     "output_type": "stream",
     "text": [
      "{'Banana': 3.99, 'Arroz': 7.89, 'Laranja': 2.11}\n"
     ]
    }
   ],
   "source": [
    "estoque = {'Banana': 3.99, 'Arroz':7.89, 'Laranja':2.11} # Dicionário trabalham com o conceito de chave e valor.\n",
    "print(estoque)"
   ]
  },
  {
   "cell_type": "code",
   "execution_count": 18,
   "id": "3898d52b",
   "metadata": {},
   "outputs": [
    {
     "data": {
      "text/plain": [
       "3.99"
      ]
     },
     "execution_count": 18,
     "metadata": {},
     "output_type": "execute_result"
    }
   ],
   "source": [
    "# Acessando o valor da Banana\n",
    "estoque['Banana']"
   ]
  },
  {
   "cell_type": "code",
   "execution_count": 19,
   "id": "335c576b",
   "metadata": {},
   "outputs": [
    {
     "name": "stdout",
     "output_type": "stream",
     "text": [
      "4.5\n"
     ]
    }
   ],
   "source": [
    "# Alterando o valor da Banana\n",
    "estoque['Banana'] = 4.50\n",
    "print(estoque['Banana'])"
   ]
  },
  {
   "cell_type": "code",
   "execution_count": 20,
   "id": "7d3aaba2",
   "metadata": {},
   "outputs": [
    {
     "data": {
      "text/plain": [
       "dict_keys(['Banana', 'Arroz', 'Laranja'])"
      ]
     },
     "execution_count": 20,
     "metadata": {},
     "output_type": "execute_result"
    }
   ],
   "source": [
    "# Retorna todas as chaves do dicionario\n",
    "estoque.keys()"
   ]
  },
  {
   "cell_type": "code",
   "execution_count": 21,
   "id": "c8daf5e9",
   "metadata": {},
   "outputs": [
    {
     "data": {
      "text/plain": [
       "dict_values([4.5, 7.89, 2.11])"
      ]
     },
     "execution_count": 21,
     "metadata": {},
     "output_type": "execute_result"
    }
   ],
   "source": [
    "# Retorna todos os valores do dicionario\n",
    "estoque.values()"
   ]
  },
  {
   "cell_type": "code",
   "execution_count": 22,
   "id": "298928bf",
   "metadata": {},
   "outputs": [
    {
     "name": "stdout",
     "output_type": "stream",
     "text": [
      "{'Banana': 4.5, 'Arroz': 7.89, 'Laranja': 2.11, 'Uva': 4.99}\n"
     ]
    }
   ],
   "source": [
    "# Verifica se já existe uma chave no dicionario e caso não exista, acaba inserindo.\n",
    "estoque.setdefault('Uva', 4.99)\n",
    "print(estoque)"
   ]
  }
 ],
 "metadata": {
  "kernelspec": {
   "display_name": "Python 3 (ipykernel)",
   "language": "python",
   "name": "python3"
  },
  "language_info": {
   "codemirror_mode": {
    "name": "ipython",
    "version": 3
   },
   "file_extension": ".py",
   "mimetype": "text/x-python",
   "name": "python",
   "nbconvert_exporter": "python",
   "pygments_lexer": "ipython3",
   "version": "3.9.12"
  }
 },
 "nbformat": 4,
 "nbformat_minor": 5
}
