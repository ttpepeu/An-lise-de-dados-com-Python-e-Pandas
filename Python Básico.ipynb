{
 "cells": [
  {
   "cell_type": "markdown",
   "id": "96231226",
   "metadata": {},
   "source": [
    "# Python Básico\n",
    "A funcao PRINT serve para imprimir o valor na tela:"
   ]
  },
  {
   "cell_type": "code",
   "execution_count": 1,
   "id": "ee2338e8",
   "metadata": {},
   "outputs": [
    {
     "name": "stdout",
     "output_type": "stream",
     "text": [
      "Olá Mundo\n"
     ]
    }
   ],
   "source": [
    "print('Olá Mundo')"
   ]
  },
  {
   "cell_type": "markdown",
   "id": "24fa98ed",
   "metadata": {},
   "source": [
    "Operações matématicas:"
   ]
  },
  {
   "cell_type": "code",
   "execution_count": 2,
   "id": "33e89c97",
   "metadata": {},
   "outputs": [
    {
     "data": {
      "text/plain": [
       "2"
      ]
     },
     "execution_count": 2,
     "metadata": {},
     "output_type": "execute_result"
    }
   ],
   "source": [
    "1+1 # Adição"
   ]
  },
  {
   "cell_type": "code",
   "execution_count": 3,
   "id": "2d57d41a",
   "metadata": {},
   "outputs": [
    {
     "data": {
      "text/plain": [
       "9"
      ]
     },
     "execution_count": 3,
     "metadata": {},
     "output_type": "execute_result"
    }
   ],
   "source": [
    "10-1 # Subtração"
   ]
  },
  {
   "cell_type": "code",
   "execution_count": 4,
   "id": "d5dc6e83",
   "metadata": {},
   "outputs": [
    {
     "data": {
      "text/plain": [
       "6"
      ]
     },
     "execution_count": 4,
     "metadata": {},
     "output_type": "execute_result"
    }
   ],
   "source": [
    "3*2 # Multiplicação"
   ]
  },
  {
   "cell_type": "code",
   "execution_count": 5,
   "id": "aaa60e2d",
   "metadata": {},
   "outputs": [
    {
     "data": {
      "text/plain": [
       "2.5"
      ]
     },
     "execution_count": 5,
     "metadata": {},
     "output_type": "execute_result"
    }
   ],
   "source": [
    "5/2 # Divisão"
   ]
  },
  {
   "cell_type": "markdown",
   "id": "e33f0867",
   "metadata": {},
   "source": [
    "Para comentar o codigo se utiliza o caractere #:"
   ]
  },
  {
   "cell_type": "code",
   "execution_count": 6,
   "id": "ed7a074e",
   "metadata": {},
   "outputs": [],
   "source": [
    "# Isso é apenas um simples comentário."
   ]
  },
  {
   "cell_type": "markdown",
   "id": "a24b8aa6",
   "metadata": {},
   "source": [
    "Python permite trabalhar com variaveis:"
   ]
  },
  {
   "cell_type": "code",
   "execution_count": 7,
   "id": "53e45008",
   "metadata": {},
   "outputs": [
    {
     "name": "stdout",
     "output_type": "stream",
     "text": [
      "3\n"
     ]
    }
   ],
   "source": [
    "x = 1 # Variavel nomeada como X com valor de 1.\n",
    "y = 2 # Variavel nomeada como Y com valor de 2.\n",
    "\n",
    "soma = x + y # Variável nomeada como SOMA recebendo dois valores, X e Y.\n",
    "\n",
    "print(soma)"
   ]
  },
  {
   "cell_type": "markdown",
   "id": "f540d0fe",
   "metadata": {},
   "source": [
    "Fatiamento de String:"
   ]
  },
  {
   "cell_type": "code",
   "execution_count": 8,
   "id": "55a00a18",
   "metadata": {},
   "outputs": [],
   "source": [
    "frase = 'Apenas uma frase para servir de exemplo'"
   ]
  },
  {
   "cell_type": "code",
   "execution_count": 9,
   "id": "10b59eea",
   "metadata": {},
   "outputs": [
    {
     "data": {
      "text/plain": [
       "'Ape'"
      ]
     },
     "execution_count": 9,
     "metadata": {},
     "output_type": "execute_result"
    }
   ],
   "source": [
    "frase[:3]"
   ]
  },
  {
   "cell_type": "code",
   "execution_count": 10,
   "id": "3b7a3633",
   "metadata": {},
   "outputs": [
    {
     "data": {
      "text/plain": [
       "'s uma frase para servir de exemplo'"
      ]
     },
     "execution_count": 10,
     "metadata": {},
     "output_type": "execute_result"
    }
   ],
   "source": [
    "frase[5:]"
   ]
  },
  {
   "cell_type": "code",
   "execution_count": 11,
   "id": "d7ca0dbf",
   "metadata": {},
   "outputs": [
    {
     "data": {
      "text/plain": [
       "'olpmexe ed rivres arap esarf amu sanepA'"
      ]
     },
     "execution_count": 11,
     "metadata": {},
     "output_type": "execute_result"
    }
   ],
   "source": [
    "frase[::-1]"
   ]
  },
  {
   "cell_type": "markdown",
   "id": "84aad741",
   "metadata": {},
   "source": [
    "Funções:"
   ]
  },
  {
   "cell_type": "code",
   "execution_count": 12,
   "id": "6fdcbd6b",
   "metadata": {},
   "outputs": [
    {
     "data": {
      "text/plain": [
       "1"
      ]
     },
     "execution_count": 12,
     "metadata": {},
     "output_type": "execute_result"
    }
   ],
   "source": [
    "frase.count('servir') # A função COUNT retorna a quantidade de elementos iguais dentro da variavel."
   ]
  },
  {
   "cell_type": "code",
   "execution_count": 13,
   "id": "3b826802",
   "metadata": {},
   "outputs": [
    {
     "data": {
      "text/plain": [
       "'apenas uma frase para servir de exemplo'"
      ]
     },
     "execution_count": 13,
     "metadata": {},
     "output_type": "execute_result"
    }
   ],
   "source": [
    "frase.lower() # A função LOWER retorna a frase toda minsúcula."
   ]
  },
  {
   "cell_type": "code",
   "execution_count": 14,
   "id": "b57c2414",
   "metadata": {},
   "outputs": [
    {
     "data": {
      "text/plain": [
       "'APENAS UMA FRASE PARA SERVIR DE EXEMPLO'"
      ]
     },
     "execution_count": 14,
     "metadata": {},
     "output_type": "execute_result"
    }
   ],
   "source": [
    "frase.upper() # A função UPPER retorna a frase toda maiúscula."
   ]
  },
  {
   "cell_type": "code",
   "execution_count": 15,
   "id": "78fc4634",
   "metadata": {},
   "outputs": [
    {
     "data": {
      "text/plain": [
       "'Apenas uma ALTERADO para servir de exemplo'"
      ]
     },
     "execution_count": 15,
     "metadata": {},
     "output_type": "execute_result"
    }
   ],
   "source": [
    "frase.replace('frase', 'ALTERADO') # A função REPLACE serve para alterar os elementos solicitado."
   ]
  }
 ],
 "metadata": {
  "kernelspec": {
   "display_name": "Python 3 (ipykernel)",
   "language": "python",
   "name": "python3"
  },
  "language_info": {
   "codemirror_mode": {
    "name": "ipython",
    "version": 3
   },
   "file_extension": ".py",
   "mimetype": "text/x-python",
   "name": "python",
   "nbconvert_exporter": "python",
   "pygments_lexer": "ipython3",
   "version": "3.9.12"
  }
 },
 "nbformat": 4,
 "nbformat_minor": 5
}
